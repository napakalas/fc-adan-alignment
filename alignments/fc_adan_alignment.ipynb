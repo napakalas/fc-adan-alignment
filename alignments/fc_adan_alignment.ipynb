{
 "cells": [
  {
   "cell_type": "code",
   "execution_count": 23,
   "metadata": {},
   "outputs": [],
   "source": [
    "# %load_ext autoreload\n",
    "%reload_ext autoreload\n",
    "%autoreload 2"
   ]
  },
  {
   "cell_type": "markdown",
   "metadata": {},
   "source": [
    "### Preparing BERT Model to used to convert terms to embeddings"
   ]
  },
  {
   "cell_type": "code",
   "execution_count": 5,
   "metadata": {},
   "outputs": [
    {
     "name": "stderr",
     "output_type": "stream",
     "text": [
      "WARNING:sentence_transformers.SentenceTransformer:No sentence-transformers model found with name /Users/ymun794/.cache/torch/sentence_transformers/gsarti_biobert-nli. Creating a new one with MEAN pooling.\n"
     ]
    }
   ],
   "source": [
    "# Define BERT Model to convert sntence to embeddings\n",
    "from sentence_transformers import SentenceTransformer, util\n",
    "\n",
    "BiobertModel = 'gsarti/biobert-nli'\n",
    "biobert_model = SentenceTransformer(BiobertModel)"
   ]
  },
  {
   "cell_type": "markdown",
   "metadata": {},
   "source": [
    "### Creating Adan object"
   ]
  },
  {
   "cell_type": "code",
   "execution_count": 24,
   "metadata": {},
   "outputs": [],
   "source": [
    "from fc_adan_alignment import Adan\n",
    "\n",
    "adan = Adan(biobert_model)"
   ]
  },
  {
   "cell_type": "code",
   "execution_count": 25,
   "metadata": {},
   "outputs": [
    {
     "name": "stderr",
     "output_type": "stream",
     "text": [
      "Batches: 100%|██████████| 29/29 [00:05<00:00,  5.46it/s]\n",
      "WARNING:sentence_transformers.SentenceTransformer:No sentence-transformers model found with name /Users/ymun794/.cache/torch/sentence_transformers/gsarti_biobert-nli. Creating a new one with MEAN pooling.\n",
      "100%|██████████| 921/921 [01:44<00:00,  8.84it/s]\n",
      "Batches: 100%|██████████| 39/39 [00:07<00:00,  5.53it/s]\n"
     ]
    }
   ],
   "source": [
    "# loading and generating embedding and textual features\n",
    "# empty parameter will load 'resources/adan/adavn_vessels_with_connections.csv'\n",
    "# adan.create_adan_index(adan_file)\n",
    "\n",
    "adan.create_adan_index()"
   ]
  },
  {
   "cell_type": "markdown",
   "metadata": {},
   "source": [
    "### Aligning FC Artery to ADAN"
   ]
  },
  {
   "cell_type": "code",
   "execution_count": 10,
   "metadata": {},
   "outputs": [],
   "source": [
    "import json\n",
    "artery_file = 'resources/fc/arteries.json'\n",
    "with open(artery_file, 'r') as f:\n",
    "    arteries = json.load(f)"
   ]
  },
  {
   "cell_type": "code",
   "execution_count": 11,
   "metadata": {},
   "outputs": [],
   "source": [
    "for artery_name, artery_meta in arteries.items():\n",
    "    parent_name = artery_meta[0]['Parent artery']\n",
    "    if parent_name in arteries:\n",
    "        arteries[parent_name][0]['Children'] = arteries[parent_name][0].get('Children', []) + [artery_name]"
   ]
  },
  {
   "cell_type": "code",
   "execution_count": 34,
   "metadata": {},
   "outputs": [],
   "source": [
    "import pandas as pd\n",
    "\n",
    "# arrange to a similar format as adan\n",
    "formatted_arteries = {'id':[], 'name':[], 'parent':[], 'children':[], 'ontology id':[]}\n",
    "for artery_name, artery_meta in arteries.items():\n",
    "    for child in artery_meta[0].get('Children', []):\n",
    "        formatted_arteries['id'] += [str(len(formatted_arteries['id']))]\n",
    "        formatted_arteries['name'] += [artery_name]\n",
    "        formatted_arteries['parent'] += [artery_meta[0]['Parent artery']]\n",
    "        formatted_arteries['children'] += [child]\n",
    "        formatted_arteries['ontology id'] += [artery_meta[0]['Ontology ID']]\n",
    "    if len(artery_meta[0].get('Children', [])) == 0:\n",
    "        formatted_arteries['id'] += [str(len(formatted_arteries['id']))]\n",
    "        formatted_arteries['name'] += [artery_name]\n",
    "        formatted_arteries['parent'] += [artery_meta[0]['Parent artery']]\n",
    "        formatted_arteries['children'] += [None]\n",
    "        formatted_arteries['ontology id'] += [artery_meta[0]['Ontology ID']]\n",
    "\n",
    "df_artery = pd.DataFrame(formatted_arteries)"
   ]
  },
  {
   "cell_type": "code",
   "execution_count": 49,
   "metadata": {},
   "outputs": [
    {
     "name": "stderr",
     "output_type": "stream",
     "text": [
      "255it [00:50,  5.06it/s]\n"
     ]
    }
   ],
   "source": [
    "## Try to align based on name and parent only\n",
    "\n",
    "from tqdm import tqdm\n",
    "\n",
    "allign_columns = ['name', 'parent', 'ontology id', 'adan (name, parent)']\n",
    "df_alligned = pd.DataFrame(columns=allign_columns)\n",
    "df = df_artery[['name', 'parent', 'ontology id']].drop_duplicates(ignore_index=True)\n",
    "for index, row in tqdm(df.reset_index().iterrows()):\n",
    "    # get candidate\n",
    "    if row['parent'] != 'NA':\n",
    "        candidates = adan.get_similar_adan_name_parent((row['name'], row['parent']))\n",
    "    else:\n",
    "        candidates = adan.get_similar_adan_term((row['name']))\n",
    "        new_candidates = []\n",
    "        for c in candidates:\n",
    "            name = c[0]\n",
    "            parent = adan.get_parent_name(name)\n",
    "            new_candidates += [((name, parent), c[1])]\n",
    "        candidates = new_candidates\n",
    "    # remove other candidate when confident with the first one\n",
    "    if candidates[0][1] >=0.99:\n",
    "        candidates = (candidates[0],)\n",
    "    row['adan (name, parent)'] = candidates\n",
    "    df_alligned.loc[len(df_alligned.index)] = row\n",
    "    \n",
    "    "
   ]
  },
  {
   "cell_type": "code",
   "execution_count": 51,
   "metadata": {},
   "outputs": [],
   "source": [
    "## Completing the dataframe with ADAN's name, parent, and confidence level\n",
    "\n",
    "data = df_alligned.explode('adan (name, parent)')\n",
    "data = data.drop_duplicates()\n",
    "data = data.rename(columns={'name':'FC name', 'parent':'FC parent', 'ontology id':'FC ontology'})\n",
    "def get_adan_name(x):\n",
    "    return x[0][0]\n",
    "data['ADAN name'] = data['adan (name, parent)'].apply(lambda x: get_adan_name(x))\n",
    "def get_adan_parent(x):\n",
    "    return x[0][1]\n",
    "data['ADAN parent'] = data['adan (name, parent)'].apply(lambda x: get_adan_parent(x))\n",
    "def get_adan_confidence(x):\n",
    "    return x[1]\n",
    "data['Confidence'] = data['adan (name, parent)'].apply(lambda x: get_adan_confidence(x))"
   ]
  },
  {
   "cell_type": "code",
   "execution_count": 52,
   "metadata": {},
   "outputs": [],
   "source": [
    "## adding some notes\n",
    "\n",
    "data['Note'] = ''\n",
    "def _get_note(row):\n",
    "    if row['Confidence'] >= 0.99:\n",
    "        name_fc = adan.get_similar_adan_term(row['FC name'], top_k=1)[0]\n",
    "        name_adan = adan.get_similar_adan_term(row['ADAN name'], top_k=1)[0]\n",
    "        if name_fc[0] == name_adan[0]:\n",
    "            note = 'align'\n",
    "        else:\n",
    "            parent_fc = adan.get_similar_adan_term(row['FC parent'], top_k=1)[0]\n",
    "            parent_adan = adan.get_similar_adan_term(row['ADAN parent'], top_k=1)[0]\n",
    "            if parent_fc[0] == parent_adan[0]:\n",
    "                note = 'align'\n",
    "            else:\n",
    "                note = 'need to check parent-child relation'\n",
    "        return note\n",
    "    return ''\n",
    "data['Note'] = data.apply(_get_note, axis=1)"
   ]
  },
  {
   "cell_type": "code",
   "execution_count": 54,
   "metadata": {},
   "outputs": [],
   "source": [
    "## Formatting the generated results and store it in a FC_ADAN.csv file in output folder\n",
    "\n",
    "\n",
    "df_out = pd.DataFrame(columns=['ID', 'FC name', 'FC parent', 'FC ontology', 'ADAN name', 'ADAN parent', 'Confidence', 'Note'])\n",
    "prev_row = {'FC name':None, 'FC parent':None}\n",
    "for idx, row in data.iterrows():\n",
    "    if row['FC name'] != prev_row['FC name'] or row['FC parent'] != prev_row['FC parent']:\n",
    "        prev_row['FC name'] = row['FC name']\n",
    "        prev_row['FC parent'] = row['FC parent']\n",
    "        df_out.loc[len(df_out.index)] = [idx, row['FC name'], row['FC parent'], row['FC ontology'], row['ADAN name'], row['ADAN parent'], row['Confidence'], row['Note']]\n",
    "    else:\n",
    "        df_out.loc[len(df_out.index)] = [idx, '', '', '', row['ADAN name'], row['ADAN parent'], row['Confidence'], row['Note']]\n",
    "\n",
    "df_out.to_csv('output/FC_ADAN.csv', index=False)"
   ]
  }
 ],
 "metadata": {
  "kernelspec": {
   "display_name": "Python 3",
   "language": "python",
   "name": "python3"
  },
  "language_info": {
   "codemirror_mode": {
    "name": "ipython",
    "version": 3
   },
   "file_extension": ".py",
   "mimetype": "text/x-python",
   "name": "python",
   "nbconvert_exporter": "python",
   "pygments_lexer": "ipython3",
   "version": "3.10.10"
  }
 },
 "nbformat": 4,
 "nbformat_minor": 2
}
